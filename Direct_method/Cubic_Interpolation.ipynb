{
 "cells": [
  {
   "cell_type": "code",
   "execution_count": 3,
   "metadata": {},
   "outputs": [
    {
     "name": "stdout",
     "output_type": "stream",
     "text": [
      "[-4.25400000e+00  2.12655333e+01  1.32040000e-01  5.43466667e-03]\n",
      "392.057168 m/s\n"
     ]
    }
   ],
   "source": [
    "import numpy as np\n",
    "\n",
    "a = np.array([[1,10,100,1000],[1,15,225,3375],[1,20,400,8000],[1,22.5,506.25,11390.625]])\n",
    "\n",
    "b = np.array([227.04,362.78,517.35,602.97])\n",
    "\n",
    "x = np.linalg.solve(a,b)\n",
    "\n",
    "print(x)\n",
    "\n",
    "ans = x[0] + x[1]*16 + x[2]*16**2 + x[3]*16**3\n",
    "print(ans,'m/s')"
   ]
  }
 ],
 "metadata": {
  "kernelspec": {
   "display_name": "Python 3",
   "language": "python",
   "name": "python3"
  },
  "language_info": {
   "codemirror_mode": {
    "name": "ipython",
    "version": 3
   },
   "file_extension": ".py",
   "mimetype": "text/x-python",
   "name": "python",
   "nbconvert_exporter": "python",
   "pygments_lexer": "ipython3",
   "version": "3.10.8"
  },
  "orig_nbformat": 4,
  "vscode": {
   "interpreter": {
    "hash": "369f2c481f4da34e4445cda3fffd2e751bd1c4d706f27375911949ba6bb62e1c"
   }
  }
 },
 "nbformat": 4,
 "nbformat_minor": 2
}
