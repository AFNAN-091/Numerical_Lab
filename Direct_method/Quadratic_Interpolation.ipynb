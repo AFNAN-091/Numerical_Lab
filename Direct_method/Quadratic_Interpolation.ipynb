{
 "cells": [
  {
   "cell_type": "code",
   "execution_count": 3,
   "metadata": {},
   "outputs": [
    {
     "name": "stdout",
     "output_type": "stream",
     "text": [
      "[12.05   17.733   0.3766]\n",
      "392.1876 m/s\n"
     ]
    }
   ],
   "source": [
    "import numpy as np\n",
    "\n",
    "a = np.array([[1,10,100],[1,15,225],[1,20,400]])\n",
    "b = np.array([227.04,362.78,517.35])\n",
    "\n",
    "x = np.linalg.solve(a,b)\n",
    "\n",
    "print(x)\n",
    "\n",
    "ans = x[0] + x[1]*16 + x[2]*16**2\n",
    "print(ans,'m/s')"
   ]
  }
 ],
 "metadata": {
  "kernelspec": {
   "display_name": "Python 3",
   "language": "python",
   "name": "python3"
  },
  "language_info": {
   "codemirror_mode": {
    "name": "ipython",
    "version": 3
   },
   "file_extension": ".py",
   "mimetype": "text/x-python",
   "name": "python",
   "nbconvert_exporter": "python",
   "pygments_lexer": "ipython3",
   "version": "3.10.8"
  },
  "orig_nbformat": 4,
  "vscode": {
   "interpreter": {
    "hash": "369f2c481f4da34e4445cda3fffd2e751bd1c4d706f27375911949ba6bb62e1c"
   }
  }
 },
 "nbformat": 4,
 "nbformat_minor": 2
}
