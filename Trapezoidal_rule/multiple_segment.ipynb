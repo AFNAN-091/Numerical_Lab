{
 "cells": [
  {
   "cell_type": "code",
   "execution_count": 4,
   "metadata": {},
   "outputs": [
    {
     "name": "stdout",
     "output_type": "stream",
     "text": [
      "11078.163979543107\n"
     ]
    }
   ],
   "source": [
    "from math import*\n",
    "\n",
    "\n",
    "from math import*\n",
    "\n",
    "def func(x):\n",
    "   return (2000*(log(140000 /(140000-2100*x)))) - 9.8*x\n",
    "\n",
    "a = 8\n",
    "b = 30\n",
    "n = int(input(\"Enter the number of segments\"))\n",
    "mid = 0\n",
    "h = (b-a)/n\n",
    "for i in range(1,n):\n",
    "    mid+=(func(a+i*h))\n",
    "    \n",
    "# print(mid)\n",
    "\n",
    "ans = (b-a)/(2*n) * (func(a)+ 2*mid + func(b))\n",
    "\n",
    "print(ans)\n"
   ]
  }
 ],
 "metadata": {
  "kernelspec": {
   "display_name": "Python 3",
   "language": "python",
   "name": "python3"
  },
  "language_info": {
   "codemirror_mode": {
    "name": "ipython",
    "version": 3
   },
   "file_extension": ".py",
   "mimetype": "text/x-python",
   "name": "python",
   "nbconvert_exporter": "python",
   "pygments_lexer": "ipython3",
   "version": "3.10.8"
  },
  "orig_nbformat": 4,
  "vscode": {
   "interpreter": {
    "hash": "369f2c481f4da34e4445cda3fffd2e751bd1c4d706f27375911949ba6bb62e1c"
   }
  }
 },
 "nbformat": 4,
 "nbformat_minor": 2
}
