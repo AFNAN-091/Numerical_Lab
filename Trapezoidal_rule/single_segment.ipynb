{
 "cells": [
  {
   "cell_type": "code",
   "execution_count": 16,
   "metadata": {},
   "outputs": [
    {
     "name": "stdout",
     "output_type": "stream",
     "text": [
      "11868.34818984112\n",
      "-807.3481898411192\n",
      "-7.2990524350521575 %\n"
     ]
    }
   ],
   "source": [
    "from math import*\n",
    "\n",
    "def func(x):\n",
    "   return (2000*(log(140000 /(140000-2100*x)))) - 9.8*x\n",
    "\n",
    "a = func(8)\n",
    "b = func(30)\n",
    "\n",
    "ans = (30-8)* (a+b)/2\n",
    "\n",
    "print(ans)\n",
    "\n",
    "true_value = 11061\n",
    "\n",
    "e = true_value - ans\n",
    "\n",
    "print(e)\n",
    "\n",
    "relative_error = (e/true_value)*100\n",
    "print(relative_error,'%')\n",
    "                 \n"
   ]
  }
 ],
 "metadata": {
  "kernelspec": {
   "display_name": "Python 3",
   "language": "python",
   "name": "python3"
  },
  "language_info": {
   "codemirror_mode": {
    "name": "ipython",
    "version": 3
   },
   "file_extension": ".py",
   "mimetype": "text/x-python",
   "name": "python",
   "nbconvert_exporter": "python",
   "pygments_lexer": "ipython3",
   "version": "3.10.8"
  },
  "orig_nbformat": 4,
  "vscode": {
   "interpreter": {
    "hash": "369f2c481f4da34e4445cda3fffd2e751bd1c4d706f27375911949ba6bb62e1c"
   }
  }
 },
 "nbformat": 4,
 "nbformat_minor": 2
}
